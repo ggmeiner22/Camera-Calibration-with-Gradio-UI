{
  "nbformat": 4,
  "nbformat_minor": 0,
  "metadata": {
    "colab": {
      "provenance": [],
      "authorship_tag": "ABX9TyOBZgM1Qrxz6xc2w9gzeja2",
      "include_colab_link": true
    },
    "kernelspec": {
      "name": "python3",
      "display_name": "Python 3"
    },
    "language_info": {
      "name": "python"
    }
  },
  "cells": [
    {
      "cell_type": "markdown",
      "metadata": {
        "id": "view-in-github",
        "colab_type": "text"
      },
      "source": [
        "<a href=\"https://colab.research.google.com/github/ggmeiner22/Camera-Calibration-with-Gradio-UI/blob/main/Camera_Calibration_with_Gradio_UI2.ipynb\" target=\"_parent\"><img src=\"https://colab.research.google.com/assets/colab-badge.svg\" alt=\"Open In Colab\"/></a>"
      ]
    },
    {
      "cell_type": "markdown",
      "source": [
        "\n",
        "# Camera Calibration (OpenCV + Gradio UI)\n",
        "## In this project, I will calibrate my own camera using OpenCV’s calibration tools.\n",
        "\n",
        "### The goal is to compute my camera’s intrinsic parameters (focal length, principal point, distortion coefficients).\n",
        "\n",
        "### I will also build a small Gradio user interface (UI) to streamline the calibration process, visualize results, and demonstrate understanding of camera geometry.\n",
        "\n"
      ],
      "metadata": {
        "id": "fhcGXGypQCfQ"
      }
    },
    {
      "cell_type": "code",
      "execution_count": 62,
      "metadata": {
        "id": "by8pAQZCN6lh"
      },
      "outputs": [],
      "source": [
        "%pip -q install opencv-python-headless numpy gradio plotly pytransform3d==3.3.0"
      ]
    },
    {
      "cell_type": "markdown",
      "source": [
        "Add imports:"
      ],
      "metadata": {
        "id": "mfkQfde-RIUw"
      }
    },
    {
      "cell_type": "code",
      "source": [
        "import os, json, glob, io, base64, math, textwrap, random\n",
        "from dataclasses import dataclass\n",
        "from typing import List, Tuple, Dict, Any\n",
        "\n",
        "import numpy as np\n",
        "import cv2 as cv\n",
        "import gradio as gr\n",
        "import plotly.graph_objects as go\n",
        "from pytransform3d.transformations import plot_transform\n",
        "\n",
        "# Ensure base dir on Colab\n",
        "BASE_DIR = \"/content\"\n",
        "IMG_DIR  = os.path.join(BASE_DIR, \"images\")\n",
        "os.makedirs(IMG_DIR, exist_ok=True)\n",
        "\n",
        "RNG = np.random.default_rng(42)"
      ],
      "metadata": {
        "id": "JKH3KHvRRB9E"
      },
      "execution_count": 63,
      "outputs": []
    },
    {
      "cell_type": "markdown",
      "source": [
        "1) Collect Calibration Images"
      ],
      "metadata": {
        "id": "dcv89lFaXtf2"
      }
    },
    {
      "cell_type": "markdown",
      "source": [
        "Save the image into /content/pattern.png"
      ],
      "metadata": {
        "id": "UE-kFogYUIFo"
      }
    },
    {
      "cell_type": "code",
      "source": [
        "# Download the OpenCV checkerboard pattern\n",
        "import urllib.request\n",
        "\n",
        "url = \"https://docs.opencv.org/4.x/pattern.png\"\n",
        "save_path = \"/content/pattern.png\"\n",
        "\n",
        "urllib.request.urlretrieve(url, save_path)\n",
        "print(f\"Saved checkerboard to {save_path}\")"
      ],
      "metadata": {
        "colab": {
          "base_uri": "https://localhost:8080/"
        },
        "id": "puWQINZ-TqU_",
        "outputId": "cde4d30f-1bf2-4837-ec05-ccfb50f7afb0"
      },
      "execution_count": 64,
      "outputs": [
        {
          "output_type": "stream",
          "name": "stdout",
          "text": [
            "Saved checkerboard to /content/pattern.png\n"
          ]
        }
      ]
    },
    {
      "cell_type": "markdown",
      "source": [
        "Print the OpenCV chessboard calibration pattern: pattern.png."
      ],
      "metadata": {
        "id": "J7ijfKiJUYgI"
      }
    },
    {
      "cell_type": "code",
      "source": [
        "from IPython.display import Image, display\n",
        "display(Image(filename=save_path))"
      ],
      "metadata": {
        "colab": {
          "base_uri": "https://localhost:8080/",
          "height": 804
        },
        "id": "7PKC3SICUYGn",
        "outputId": "ef0faa5d-ec12-4dae-d175-cdea512aa3fb"
      },
      "execution_count": 65,
      "outputs": [
        {
          "output_type": "display_data",
          "data": {
            "image/png": "[encoded data removed]",
            "text/plain": [
              "<IPython.core.display.Image object>"
            ]
          },
          "metadata": {}
        }
      ]
    },
    {
      "cell_type": "markdown",
      "source": [
        "I/O class"
      ],
      "metadata": {
        "id": "0qcT6DlQV3Mb"
      }
    },
    {
      "cell_type": "code",
      "source": [
        "class IO:\n",
        "    @staticmethod\n",
        "    def ensure_dir(path: str):\n",
        "        os.makedirs(path, exist_ok=True)\n",
        "\n",
        "    @staticmethod\n",
        "    def list_images(folder: str, exts=(\".jpg\",\".jpeg\",\".png\",\".bmp\")) -> List[str]:\n",
        "        files = []\n",
        "        for e in exts:\n",
        "            files.extend(glob.glob(os.path.join(folder, f\"*{e}\")))\n",
        "        return sorted(files)\n",
        "\n",
        "    @staticmethod\n",
        "    def save_json(obj: Dict[str, Any], path: str):\n",
        "        with open(path, \"w\") as f:\n",
        "            json.dump(obj, f, indent=2)\n",
        "\n",
        "    @staticmethod\n",
        "    def load_json(path: str) -> Dict[str, Any]:\n",
        "        with open(path, \"r\") as f:\n",
        "            return json.load(f)\n",
        "\n",
        "    @staticmethod\n",
        "    def imread_rgb(path: str) -> np.ndarray:\n",
        "        bgr = cv.imread(path, cv.IMREAD_COLOR)\n",
        "        if bgr is None:\n",
        "            raise FileNotFoundError(path)\n",
        "        return cv.cvtColor(bgr, cv.COLOR_BGR2RGB)\n",
        "\n",
        "    @staticmethod\n",
        "    def imwrite_rgb(path: str, rgb: np.ndarray):\n",
        "        bgr = cv.cvtColor(rgb, cv.COLOR_RGB2BGR)\n",
        "        cv.imwrite(path, bgr)"
      ],
      "metadata": {
        "id": "C8C4eXShV7fP"
      },
      "execution_count": 66,
      "outputs": []
    },
    {
      "cell_type": "markdown",
      "source": [
        "Board class"
      ],
      "metadata": {
        "id": "Tw6j4St4bs_y"
      }
    },
    {
      "cell_type": "code",
      "source": [
        "class Board:\n",
        "    \"\"\"Chessboard model (pattern_size uses inner corners).\"\"\"\n",
        "    @staticmethod\n",
        "    def object_points(pattern_size: Tuple[int,int], square_size_m: float) -> np.ndarray:\n",
        "        cols, rows = pattern_size\n",
        "        objp = np.zeros((rows*cols, 3), np.float32)\n",
        "        xs, ys = np.meshgrid(np.arange(cols), np.arange(rows))\n",
        "        objp[:, :2] = np.vstack([xs.ravel(), ys.ravel()]).T * square_size_m\n",
        "        return objp\n",
        "\n",
        "    @staticmethod\n",
        "    def pattern_tuple(cols: int, rows: int) -> Tuple[int,int]:\n",
        "        return (cols, rows)"
      ],
      "metadata": {
        "id": "oRIVMmeHbvOW"
      },
      "execution_count": 67,
      "outputs": []
    },
    {
      "cell_type": "markdown",
      "source": [
        "Image class"
      ],
      "metadata": {
        "id": "g8uH32_5bv2P"
      }
    },
    {
      "cell_type": "code",
      "source": [
        "class Img:\n",
        "    @staticmethod\n",
        "    def draw_axes(rgb: np.ndarray, K: np.ndarray, D: np.ndarray, rvec: np.ndarray, tvec: np.ndarray, axis_len: float) -> np.ndarray:\n",
        "        img = rgb.copy()\n",
        "        axis_3d = np.float32([\n",
        "            [0, 0, 0],\n",
        "            [axis_len, 0, 0],\n",
        "            [0, axis_len, 0],\n",
        "            [0, 0, -axis_len]\n",
        "        ])\n",
        "        axis_2d, _ = cv.projectPoints(axis_3d, rvec, tvec, K, D)\n",
        "        axis_2d = axis_2d.reshape(-1, 2).astype(int)\n",
        "        o, x, y, z = map(tuple, axis_2d)\n",
        "        cv.line(img, o, x, (255,0,0),   3)  # X red\n",
        "        cv.line(img, o, y, (0,255,0),   3)  # Y green\n",
        "        cv.line(img, o, z, (0,0,255),   3)  # Z blue\n",
        "        return img\n",
        "\n",
        "    @staticmethod\n",
        "    def put_text(img: np.ndarray, text: str, org=(10,30)):\n",
        "        out = img.copy()\n",
        "        cv.putText(out, text, org, cv.FONT_HERSHEY_SIMPLEX, 1.0, (255,255,0), 2, cv.LINE_AA)\n",
        "        return out"
      ],
      "metadata": {
        "id": "F1BffUSybweH"
      },
      "execution_count": 68,
      "outputs": []
    },
    {
      "cell_type": "markdown",
      "source": [
        "Camera class"
      ],
      "metadata": {
        "id": "0ubDMn2Xb1VA"
      }
    },
    {
      "cell_type": "code",
      "source": [
        "class Cam:\n",
        "    @staticmethod\n",
        "    def rodrigues_to_R(rvec: np.ndarray) -> np.ndarray:\n",
        "        R, _ = cv.Rodrigues(rvec)\n",
        "        return R\n",
        "\n",
        "    @staticmethod\n",
        "    def camera_center_in_board(rvec: np.ndarray, tvec: np.ndarray) -> np.ndarray:\n",
        "        # X_c = R X_w + t  ->  C_w = -R^T t\n",
        "        R = Cam.rodrigues_to_R(rvec)\n",
        "        C = -R.T @ tvec.reshape(3,1)\n",
        "        return C.flatten()\n",
        "\n",
        "    @staticmethod\n",
        "    def to_jsonable(mat: np.ndarray) -> List[List[float]]:\n",
        "        return mat.tolist()"
      ],
      "metadata": {
        "id": "Ybb6Ru9Nb1qL"
      },
      "execution_count": 69,
      "outputs": []
    },
    {
      "cell_type": "markdown",
      "source": [
        "Calibration class"
      ],
      "metadata": {
        "id": "e22R7Expb4yy"
      }
    },
    {
      "cell_type": "code",
      "source": [
        "class Calib:\n",
        "    @staticmethod\n",
        "    def detect_corners(image_paths: List[str], pattern_size: Tuple[int,int]):\n",
        "        objp_unit = Board.object_points(pattern_size, square_size_m=1.0)  # scale later\n",
        "        objpoints, imgpoints = [], []\n",
        "        img_size = None\n",
        "\n",
        "        for p in image_paths:\n",
        "            bgr = cv.imread(p, cv.IMREAD_COLOR)\n",
        "            if bgr is None:\n",
        "                print(f\"[WARN] Could not read image: {p}\")\n",
        "                continue\n",
        "            gray = cv.cvtColor(bgr, cv.COLOR_BGR2GRAY)\n",
        "            if img_size is None:\n",
        "                img_size = (gray.shape[1], gray.shape[0])\n",
        "            ret, corners = cv.findChessboardCorners(gray, pattern_size,\n",
        "                                                    flags=cv.CALIB_CB_ADAPTIVE_THRESH + cv.CALIB_CB_NORMALIZE_IMAGE)\n",
        "            if ret:\n",
        "                corners_ref = cv.cornerSubPix(\n",
        "                    gray, corners, (11,11), (-1,-1),\n",
        "                    (cv.TERM_CRITERIA_EPS + cv.TERM_CRITERIA_MAX_ITER, 30, 0.001)\n",
        "                )\n",
        "                objpoints.append(objp_unit.copy())\n",
        "                imgpoints.append(corners_ref)\n",
        "            else:\n",
        "                print(f\"[INFO] Chessboard not found: {os.path.basename(p)}\")\n",
        "\n",
        "        return objpoints, imgpoints, img_size\n",
        "\n",
        "    @staticmethod\n",
        "    def calibrate(objpoints_unit, imgpoints, img_size, square_size_m: float):\n",
        "        if img_size is None or len(objpoints_unit) == 0:\n",
        "            raise ValueError(\"No valid detections or unknown image size.\")\n",
        "        scaled_objpoints = [op * square_size_m for op in objpoints_unit]\n",
        "\n",
        "        ret, K, D, rvecs, tvecs = cv.calibrateCamera(\n",
        "            scaled_objpoints, imgpoints, img_size, None, None, flags=cv.CALIB_RATIONAL_MODEL\n",
        "        )\n",
        "        return {\n",
        "            \"rms_reprojection_error\": float(ret),\n",
        "            \"K\": K, \"D\": D, \"rvecs\": rvecs, \"tvecs\": tvecs, \"image_size\": img_size\n",
        "        }\n",
        "\n",
        "    def undistort_preview(rgb: np.ndarray, K: np.ndarray, D: np.ndarray,\n",
        "                          calib_size: tuple[int, int] | None = None):\n",
        "        \"\"\"\n",
        "        Input : rgb (HxWx3, RGB, uint8), intrinsics (K), distortion (D),\n",
        "                optional calibration size (width, height).\n",
        "        Output: (before_rgb, after_rgb) for UI preview.\n",
        "        \"\"\"\n",
        "        after = undistort_single_after(rgb, K, D, calib_size=calib_size)\n",
        "        return rgb, after\n",
        "\n",
        "\n",
        "\n",
        "    @staticmethod\n",
        "    def save_calibration_json(path: str, calib: Dict[str, Any]):\n",
        "        out = {\n",
        "            \"rms_reprojection_error\": calib[\"rms_reprojection_error\"],\n",
        "            \"K\": Cam.to_jsonable(calib[\"K\"]),\n",
        "            \"D\": Cam.to_jsonable(calib[\"D\"]),\n",
        "            \"rvecs\": [rv.flatten().tolist() for rv in calib[\"rvecs\"]],\n",
        "            \"tvecs\": [tv.flatten().tolist() for tv in calib[\"tvecs\"]],\n",
        "            \"image_width\": int(calib[\"image_size\"][0]),\n",
        "            \"image_height\": int(calib[\"image_size\"][1]),\n",
        "        }\n",
        "        IO.save_json(out, path)\n",
        "\n",
        "    @staticmethod\n",
        "    def estimate_poses(image_paths, pattern_size, square_size_m, K, D, imgpoints):\n",
        "        objp = Board.object_points(pattern_size, square_size_m)\n",
        "        results = []\n",
        "        for pth, corners in zip(image_paths, imgpoints):\n",
        "            ok, rvec, tvec = cv.solvePnP(objp, corners, K, D, flags=cv.SOLVEPNP_ITERATIVE)\n",
        "            if ok:\n",
        "                results.append((pth, rvec, tvec))\n",
        "        return results"
      ],
      "metadata": {
        "id": "81EZ0ngjb4Nw"
      },
      "execution_count": 102,
      "outputs": []
    },
    {
      "cell_type": "markdown",
      "source": [
        "Pose plot (3D) helper + full pipeline function"
      ],
      "metadata": {
        "id": "knrpczsvcAqG"
      }
    },
    {
      "cell_type": "code",
      "source": [
        "def plot_camera_poses_3d(pose_list: List[Tuple[str,np.ndarray,np.ndarray]], square_size_m: float):\n",
        "    fig = go.Figure()\n",
        "    if len(pose_list) == 0:\n",
        "        fig.update_layout(title=\"No poses to display\", scene_aspectmode='data')\n",
        "        return fig\n",
        "\n",
        "    centers, labels = [], []\n",
        "    for pth, rvec, tvec in pose_list:\n",
        "        C = Cam.camera_center_in_board(rvec, tvec)\n",
        "        centers.append(C); labels.append(os.path.basename(pth))\n",
        "    centers = np.array(centers)\n",
        "\n",
        "    # Board plane grid (Z=0)\n",
        "    grid_n = 8\n",
        "    xs = np.linspace(0, grid_n*square_size_m, grid_n+1)\n",
        "    ys = np.linspace(0, grid_n*square_size_m, grid_n+1)\n",
        "    for x in xs:\n",
        "        fig.add_trace(go.Scatter3d(x=[x]*len(ys), y=ys, z=[0]*len(ys), mode=\"lines\", opacity=0.3, name=\"board grid\"))\n",
        "    for y in ys:\n",
        "        fig.add_trace(go.Scatter3d(x=xs, y=[y]*len(xs), z=[0]*len(xs), mode=\"lines\", opacity=0.3, showlegend=False))\n",
        "\n",
        "    # Camera centers\n",
        "    fig.add_trace(go.Scatter3d(\n",
        "        x=centers[:,0], y=centers[:,1], z=centers[:,2],\n",
        "        mode=\"markers+text\", text=[f\"#{i}\" for i in range(len(labels))], textposition=\"top center\",\n",
        "        marker=dict(size=4), name=\"Camera centers\"\n",
        "    ))\n",
        "\n",
        "    # Board axes at origin\n",
        "    L = 3.0 * square_size_m\n",
        "    axes = {\"X\":[[0,L],[0,0],[0,0]], \"Y\":[[0,0],[0,L],[0,0]], \"Z\":[[0,0],[0,0],[0,L]]}\n",
        "    for name, (ax, ay, az) in axes.items():\n",
        "        fig.add_trace(go.Scatter3d(x=ax, y=ay, z=az, mode=\"lines\", name=f\"{name}-axis\"))\n",
        "\n",
        "    fig.update_layout(\n",
        "        title=\"Estimated Camera Poses w.r.t. Chessboard\",\n",
        "        scene=dict(xaxis_title=\"X (m)\", yaxis_title=\"Y (m)\", zaxis_title=\"Z (m)\", aspectmode=\"data\"),\n",
        "        legend=dict(x=0, y=1.0)\n",
        "    )\n",
        "    return fig\n",
        "\n",
        "\n",
        "def run_full_calibration(\n",
        "    image_dir: str,\n",
        "    pattern_cols: int,\n",
        "    pattern_rows: int,\n",
        "    square_size_m: float,\n",
        "    max_overlay_images: int = 8,\n",
        "    save_json_path: str = os.path.join(BASE_DIR, \"calibration.json\")\n",
        ") -> Dict[str, Any]:\n",
        "    pattern_size = Board.pattern_tuple(pattern_cols, pattern_rows)\n",
        "    image_paths = IO.list_images(image_dir)\n",
        "    if len(image_paths) == 0:\n",
        "        raise RuntimeError(f\"No images found in {image_dir}. Upload .jpeg files first.\")\n",
        "\n",
        "    objpoints_unit, imgpoints, img_size = Calib.detect_corners(image_paths, pattern_size)\n",
        "    if len(imgpoints) < 8:\n",
        "        raise RuntimeError(f\"Not enough valid detections: {len(imgpoints)} found; need ≥ 8.\")\n",
        "\n",
        "    calib = Calib.calibrate(objpoints_unit, imgpoints, img_size, square_size_m)\n",
        "    Calib.save_calibration_json(save_json_path, calib)\n",
        "\n",
        "    K, D = calib[\"K\"], calib[\"D\"]\n",
        "    pose_list = Calib.estimate_poses(image_paths, pattern_size, square_size_m, K, D, imgpoints)\n",
        "\n",
        "    # Sample overlays\n",
        "    idxs = list(range(len(pose_list)))\n",
        "    random.shuffle(idxs)\n",
        "    idxs = idxs[:max_overlay_images]\n",
        "    overlay_images = []\n",
        "    for i in idxs:\n",
        "        pth, rvec, tvec = pose_list[i]\n",
        "        rgb = IO.imread_rgb(pth)\n",
        "        img_axes = Img.draw_axes(rgb, K, D, rvec, tvec, axis_len=3.0*square_size_m)\n",
        "        overlay_images.append(Img.put_text(img_axes, f\"axes: {os.path.basename(pth)}\", (10,30)))\n",
        "\n",
        "    undist_before = undist_after = None\n",
        "    if len(pose_list) > 0:\n",
        "        p0, _, _ = pose_list[0]\n",
        "        img0 = IO.imread_rgb(p0)\n",
        "        # calib[\"image_size\"] is (w, h) in your pipeline\n",
        "        undist_before, undist_after = Calib.undistort_preview(\n",
        "        img0, K, D, calib_size=tuple(calib[\"image_size\"])\n",
        "        )\n",
        "\n",
        "    fig = plot_camera_poses_3d(pose_list, square_size_m)\n",
        "\n",
        "    return {\n",
        "        \"json_path\": save_json_path,\n",
        "        \"rms\": calib[\"rms_reprojection_error\"],\n",
        "        \"K\": calib[\"K\"],\n",
        "        \"D\": calib[\"D\"],\n",
        "        \"image_size\": calib[\"image_size\"],\n",
        "        \"num_images\": len(image_paths),\n",
        "        \"num_used\": len(imgpoints),\n",
        "        \"overlay_images\": overlay_images,\n",
        "        \"undist_before\": undist_before,\n",
        "        \"undist_after\": undist_after,\n",
        "        \"pose_fig\": fig\n",
        "    }"
      ],
      "metadata": {
        "id": "eP5K9g5McA5a"
      },
      "execution_count": 101,
      "outputs": []
    },
    {
      "cell_type": "markdown",
      "source": [
        "Helper to save images to files"
      ],
      "metadata": {
        "id": "fT0OIxqqjrXH"
      }
    },
    {
      "cell_type": "code",
      "source": [
        "# Directory for UI images\n",
        "EXPORT_DIR = os.path.join(BASE_DIR, \"exports\")\n",
        "IO.ensure_dir(EXPORT_DIR)\n",
        "\n",
        "def _to_file_list(images, prefix=\"overlay\"):\n",
        "    \"\"\"\n",
        "    Save a list of RGB numpy images to PNG files and return their paths.\n",
        "    \"\"\"\n",
        "    paths = []\n",
        "    for i, img in enumerate(images):\n",
        "        fp = os.path.join(EXPORT_DIR, f\"{prefix}_{i:02d}.png\")\n",
        "        IO.imwrite_rgb(fp, img)  # writes RGB -> PNG\n",
        "        paths.append(fp)\n",
        "    return paths\n"
      ],
      "metadata": {
        "id": "gC-WbO4Fjqzb"
      },
      "execution_count": 72,
      "outputs": []
    },
    {
      "cell_type": "markdown",
      "source": [
        "Image saver"
      ],
      "metadata": {
        "id": "xpYq8z7HnTZ_"
      }
    },
    {
      "cell_type": "code",
      "source": [
        "from PIL import Image\n",
        "import uuid, time\n",
        "\n",
        "EXPORT_ROOT = os.path.join(BASE_DIR, \"exports\")\n",
        "IO.ensure_dir(EXPORT_ROOT)\n",
        "\n",
        "def _save_gallery_images_np(images, prefix=\"overlay\", max_side=1600):\n",
        "    \"\"\"\n",
        "    Accepts a list of RGB uint8 numpy arrays and returns a list of fresh, unique PNG file paths.\n",
        "    Resizes if images are very large to avoid Colab/Gradio rendering issues.\n",
        "    \"\"\"\n",
        "    # Create a unique “session” folder each run to dodge caching/collisions\n",
        "    session_dir = os.path.join(EXPORT_ROOT, f\"{prefix}_{int(time.time())}_{uuid.uuid4().hex[:6]}\")\n",
        "    IO.ensure_dir(session_dir)\n",
        "\n",
        "    paths = []\n",
        "    for i, arr in enumerate(images):\n",
        "        if arr is None:\n",
        "            continue\n",
        "        # Ensure uint8 RGB\n",
        "        if arr.dtype != np.uint8:\n",
        "            arr = np.clip(arr, 0, 255).astype(np.uint8)\n",
        "        if arr.ndim == 2:\n",
        "            arr = np.stack([arr]*3, axis=-1)\n",
        "        if arr.shape[2] == 4:  # RGBA -> RGB\n",
        "            arr = arr[..., :3]\n",
        "\n",
        "        im = Image.fromarray(arr, mode=\"RGB\")\n",
        "        # Downscale large images for more reliable display\n",
        "        w, h = im.size\n",
        "        scale = min(1.0, max_side / max(w, h))\n",
        "        if scale < 1.0:\n",
        "            im = im.resize((int(w*scale), int(h*scale)), Image.LANCZOS)\n",
        "\n",
        "        fp = os.path.join(session_dir, f\"{prefix}_{i:02d}.png\")\n",
        "        im.save(fp, format=\"PNG\", optimize=True)\n",
        "        paths.append(fp)\n",
        "    return paths\n"
      ],
      "metadata": {
        "id": "Mq9oDIbOnT41"
      },
      "execution_count": 73,
      "outputs": []
    },
    {
      "cell_type": "markdown",
      "source": [
        "Downscale helper"
      ],
      "metadata": {
        "id": "Vn1gDAVXqI1a"
      }
    },
    {
      "cell_type": "code",
      "source": [
        "def _downscale_images_np(images, max_side=1200):\n",
        "    \"\"\"\n",
        "    Takes a list of RGB np.uint8 images and returns a list of downscaled images (as np arrays).\n",
        "    This avoids Colab/Gradio rendering issues with very large images or path caching.\n",
        "    \"\"\"\n",
        "    out = []\n",
        "    for arr in images:\n",
        "        if arr is None:\n",
        "            continue\n",
        "        im = arr\n",
        "        if im.dtype != np.uint8:\n",
        "            im = np.clip(im, 0, 255).astype(np.uint8)\n",
        "        if im.ndim == 2:\n",
        "            im = np.stack([im]*3, axis=-1)\n",
        "        if im.shape[2] == 4:\n",
        "            im = im[..., :3]\n",
        "\n",
        "        h, w = im.shape[:2]\n",
        "        scale = min(1.0, float(max_side) / float(max(h, w)))\n",
        "        if scale < 1.0:\n",
        "            nh, nw = int(round(h*scale)), int(round(w*scale))\n",
        "            im = cv.resize(im, (nw, nh), interpolation=cv.INTER_AREA)\n",
        "        out.append(im)\n",
        "    return out\n"
      ],
      "metadata": {
        "id": "ksKa7COqqJFV"
      },
      "execution_count": 74,
      "outputs": []
    },
    {
      "cell_type": "markdown",
      "source": [],
      "metadata": {
        "id": "mpptwC35rZra"
      }
    },
    {
      "cell_type": "code",
      "source": [
        "def _to_rgb_uint8(img: np.ndarray) -> np.ndarray:\n",
        "    \"\"\"Return a contiguous RGB uint8 HxWx3 image (downscale if huge).\"\"\"\n",
        "    if img is None:\n",
        "        return None\n",
        "\n",
        "    arr = img\n",
        "    # Ensure uint8 range\n",
        "    if arr.dtype != np.uint8:\n",
        "        arr = np.clip(arr, 0, 255).astype(np.uint8)\n",
        "\n",
        "    # Expand gray to RGB\n",
        "    if arr.ndim == 2:\n",
        "        arr = np.stack([arr]*3, axis=-1)\n",
        "\n",
        "    # Drop alpha if present\n",
        "    if arr.ndim == 3 and arr.shape[2] == 4:\n",
        "        arr = arr[:, :, :3]\n",
        "\n",
        "    # Sometimes arrays come in BGR; our pipeline produces RGB, but to be safe:\n",
        "    # If you KNOW an array is BGR, uncomment:\n",
        "    # arr = cv.cvtColor(arr, cv.COLOR_BGR2RGB)\n",
        "\n",
        "    # Downscale very large images for Colab stability\n",
        "    h, w = arr.shape[:2]\n",
        "    max_side = 1200\n",
        "    scale = min(1.0, max_side / float(max(h, w)))\n",
        "    if scale < 1.0:\n",
        "        arr = cv.resize(arr, (int(round(w*scale)), int(round(h*scale))), interpolation=cv.INTER_AREA)\n",
        "\n",
        "    # Make sure memory is contiguous; Gradio can be picky here\n",
        "    arr = np.ascontiguousarray(arr)\n",
        "    return arr\n",
        "\n",
        "\n",
        "def _prep_gallery(images: list) -> list:\n",
        "    \"\"\"Prepare a list of images for gr.Gallery(type='numpy').\"\"\"\n",
        "    out = []\n",
        "    for im in images or []:\n",
        "        rgb = _to_rgb_uint8(im)\n",
        "        if rgb is not None:\n",
        "            out.append(rgb)\n",
        "    return out\n"
      ],
      "metadata": {
        "id": "4BxEVEWsraGT"
      },
      "execution_count": 75,
      "outputs": []
    },
    {
      "cell_type": "code",
      "source": [
        "from PIL import Image\n",
        "\n",
        "def _to_pil_rgb(img_np, max_side=1200):\n",
        "    if img_np is None or img_np.size == 0:\n",
        "        return None\n",
        "    if img_np.ndim < 2:\n",
        "        return None\n",
        "    arr = img_np\n",
        "    if arr.dtype != np.uint8:\n",
        "        arr = np.clip(arr, 0, 255).astype(np.uint8)\n",
        "    if arr.ndim == 2:\n",
        "        arr = np.stack([arr]*3, axis=-1)\n",
        "    if arr.ndim == 3 and arr.shape[2] == 4:\n",
        "        arr = arr[:, :, :3]\n",
        "    h, w = arr.shape[:2]\n",
        "    if h == 0 or w == 0:\n",
        "        return None\n",
        "    scale = min(1.0, max_side / float(max(h, w)))\n",
        "    if scale < 1.0:\n",
        "        nh, nw = int(round(h*scale)), int(round(w*scale))\n",
        "        if nh > 0 and nw > 0:\n",
        "            arr = cv.resize(arr, (nw, nh), interpolation=cv.INTER_AREA)\n",
        "    return Image.fromarray(arr, mode=\"RGB\")\n",
        "\n",
        "\n",
        "def _prep_gallery_pil(images_list):\n",
        "    out = []\n",
        "    for im in images_list or []:\n",
        "        pi = _to_pil_rgb(im)\n",
        "        if pi is not None:          # skip empties\n",
        "            out.append(pi)\n",
        "    return out\n",
        "\n"
      ],
      "metadata": {
        "id": "yrSxbeNOs7X_"
      },
      "execution_count": 87,
      "outputs": []
    },
    {
      "cell_type": "code",
      "source": [
        "import base64, io\n",
        "from PIL import Image\n",
        "\n",
        "def _pil_to_base64(img: Image.Image) -> str:\n",
        "    buf = io.BytesIO()\n",
        "    img.save(buf, format=\"PNG\")\n",
        "    return base64.b64encode(buf.getvalue()).decode(\"ascii\")\n",
        "\n",
        "def _imgs_to_html(pils, captions=None, max_w=380):\n",
        "    if not pils:\n",
        "        return \"<div style='color:#bbb'>No images to display.</div>\"\n",
        "    cards = []\n",
        "    for i, im in enumerate(pils):\n",
        "        b64 = _pil_to_base64(im)\n",
        "        cap = (captions[i] if captions and i < len(captions) else \"\")\n",
        "        cards.append(\n",
        "            f\"\"\"\n",
        "            <div style=\"display:flex;flex-direction:column;align-items:center;margin:8px;\">\n",
        "              <img src=\"data:image/png;base64,{b64}\" style=\"max-width:{max_w}px;height:auto;border:1px solid #444;border-radius:6px;\" />\n",
        "              <div style=\"color:#ccc;font-size:12px;margin-top:4px\">{cap}</div>\n",
        "            </div>\n",
        "            \"\"\"\n",
        "        )\n",
        "    return f\"<div style='display:flex;flex-wrap:wrap;'>{''.join(cards)}</div>\"\n"
      ],
      "metadata": {
        "id": "dwTloTE9YvXn"
      },
      "execution_count": 77,
      "outputs": []
    },
    {
      "cell_type": "code",
      "source": [
        "def undistort_single_after(rgb: np.ndarray, K: np.ndarray, D: np.ndarray,\n",
        "                           calib_size: tuple[int, int] | None = None) -> np.ndarray:\n",
        "    \"\"\"\n",
        "    Return just the undistorted image (RGB, uint8) for one input frame.\n",
        "\n",
        "    rgb         : HxWx3, RGB, uint8\n",
        "    K, D        : intrinsics and distortion from calibration (float64 recommended)\n",
        "    calib_size  : (calib_width, calib_height) from calibration. If present and the\n",
        "                  input image size differs, K is scaled accordingly.\n",
        "    \"\"\"\n",
        "    assert rgb.ndim == 3 and rgb.shape[2] == 3, \"rgb must be HxWx3 RGB\"\n",
        "    h, w = rgb.shape[:2]\n",
        "\n",
        "    # Ensure expected types/shapes for OpenCV\n",
        "    K = np.asarray(K, dtype=np.float64).copy()\n",
        "    D = np.asarray(D, dtype=np.float64).reshape(-1)\n",
        "\n",
        "    # If current image size != calibration size, scale K\n",
        "    if calib_size is not None:\n",
        "        cw, ch = calib_size  # width, height from calibration\n",
        "        if (w, h) != (cw, ch):\n",
        "            sx, sy = w / float(cw), h / float(ch)\n",
        "            K[0, 0] *= sx       # fx\n",
        "            K[0, 2] *= sx       # cx\n",
        "            K[1, 1] *= sy       # fy\n",
        "            K[1, 2] *= sy       # cy\n",
        "\n",
        "    # Build rectification map and remap (more stable than single-call undistort)\n",
        "    newK, _ = cv.getOptimalNewCameraMatrix(\n",
        "        K, D, (w, h), alpha=0.5, centerPrincipalPoint=True\n",
        "    )\n",
        "    map1, map2 = cv.initUndistortRectifyMap(K, D, None, newK, (w, h), cv.CV_16SC2)\n",
        "\n",
        "    bgr_in  = cv.cvtColor(rgb, cv.COLOR_RGB2BGR)\n",
        "    bgr_out = cv.remap(bgr_in, map1, map2, interpolation=cv.INTER_LINEAR,\n",
        "                       borderMode=cv.BORDER_CONSTANT)\n",
        "    return cv.cvtColor(bgr_out, cv.COLOR_BGR2RGB)\n"
      ],
      "metadata": {
        "id": "nulLqIQEkW1d"
      },
      "execution_count": 105,
      "outputs": []
    },
    {
      "cell_type": "markdown",
      "source": [
        "Run once without the UI (quick test)"
      ],
      "metadata": {
        "id": "rS7Qnge6gqWN"
      }
    },
    {
      "cell_type": "code",
      "source": [
        "# Example (set these to your print & board):\n",
        "pattern_cols = 9              # inner corners across\n",
        "pattern_rows = 6              # inner corners down\n",
        "square_size_m = 0.0217714286  # 6/7 inch in meters (~21.771 mm)\n",
        "\n",
        "res = run_full_calibration(IMG_DIR, pattern_cols, pattern_rows, square_size_m, max_overlay_images=6)\n",
        "print(f\"RMS: {res['rms']:.4f}, saved: {res['json_path']}\")\n",
        "res['pose_fig'].show()\n"
      ],
      "metadata": {
        "colab": {
          "base_uri": "https://localhost:8080/",
          "height": 559
        },
        "id": "S_Vb5C4xfnOm",
        "outputId": "3e29d6d0-7820-4221-d642-d2af2bb4f8da"
      },
      "execution_count": 78,
      "outputs": [
        {
          "output_type": "stream",
          "name": "stdout",
          "text": [
            "RMS: 0.4615, saved: /content/calibration.json\n"
          ]
        },
        {
          "output_type": "display_data",
          "data": {
            "text/html": [
              "<html>\n",
              "<head><meta charset=\"utf-8\" /></head>\n",
              "<body>\n",
              "    <div>            <script src=\"https://cdnjs.cloudflare.com/ajax/libs/mathjax/2.7.5/MathJax.js?config=TeX-AMS-MML_SVG\"></script><script type=\"text/javascript\">if (window.MathJax && window.MathJax.Hub && window.MathJax.Hub.Config) {window.MathJax.Hub.Config({SVG: {font: \"STIX-Web\"}});}</script>                <script type=\"text/javascript\">window.PlotlyConfig = {MathJaxConfig: 'local'};</script>\n",
              "        <script charset=\"utf-8\" src=\"https://cdn.plot.ly/plotly-2.35.2.min.js\"></script>                <div id=\"a6e1b49c-75d0-418b-a556-34ff3daa663c\" class=\"plotly-graph-div\" style=\"height:525px; width:100%;\"></div>            <script type=\"text/javascript\">                                    window.PLOTLYENV=window.PLOTLYENV || {};                                    if (document.getElementById(\"a6e1b49c-75d0-418b-a556-34ff3daa663c\")) {                    Plotly.newPlot(                        \"a6e1b49c-75d0-418b-a556-34ff3daa663c\",                        [{\"mode\":\"lines\",\"name\":\"board grid\",\"opacity\":0.3,\"x\":[0.0,0.0,0.0,0.0,0.0,0.0,0.0,0.0,0.0],\"y\":[0.0,0.0217714286,0.0435428572,0.0653142858,0.0870857144,0.108857143,0.1306285716,0.1524000002,0.1741714288],\"z\":[0,0,0,0,0,0,0,0,0],\"type\":\"scatter3d\"},{\"mode\":\"lines\",\"name\":\"board grid\",\"opacity\":0.3,\"x\":[0.0217714286,0.0217714286,0.0217714286,0.0217714286,0.0217714286,0.0217714286,0.0217714286,0.0217714286,0.0217714286],\"y\":[0.0,0.0217714286,0.0435428572,0.0653142858,0.0870857144,0.108857143,0.1306285716,0.1524000002,0.1741714288],\"z\":[0,0,0,0,0,0,0,0,0],\"type\":\"scatter3d\"},{\"mode\":\"lines\",\"name\":\"board grid\",\"opacity\":0.3,\"x\":[0.0435428572,0.0435428572,0.0435428572,0.0435428572,0.0435428572,0.0435428572,0.0435428572,0.0435428572,0.0435428572],\"y\":[0.0,0.0217714286,0.0435428572,0.0653142858,0.0870857144,0.108857143,0.1306285716,0.1524000002,0.1741714288],\"z\":[0,0,0,0,0,0,0,0,0],\"type\":\"scatter3d\"},{\"mode\":\"lines\",\"name\":\"board grid\",\"opacity\":0.3,\"x\":[0.0653142858,0.0653142858,0.0653142858,0.0653142858,0.0653142858,0.0653142858,0.0653142858,0.0653142858,0.0653142858],\"y\":[0.0,0.0217714286,0.0435428572,0.0653142858,0.0870857144,0.108857143,0.1306285716,0.1524000002,0.1741714288],\"z\":[0,0,0,0,0,0,0,0,0],\"type\":\"scatter3d\"},{\"mode\":\"lines\",\"name\":\"board grid\",\"opacity\":0.3,\"x\":[0.0870857144,0.0870857144,0.0870857144,0.0870857144,0.0870857144,0.0870857144,0.0870857144,0.0870857144,0.0870857144],\"y\":[0.0,0.0217714286,0.0435428572,0.0653142858,0.0870857144,0.108857143,0.1306285716,0.1524000002,0.1741714288],\"z\":[0,0,0,0,0,0,0,0,0],\"type\":\"scatter3d\"},{\"mode\":\"lines\",\"name\":\"board grid\",\"opacity\":0.3,\"x\":[0.108857143,0.108857143,0.108857143,0.108857143,0.108857143,0.108857143,0.108857143,0.108857143,0.108857143],\"y\":[0.0,0.0217714286,0.0435428572,0.0653142858,0.0870857144,0.108857143,0.1306285716,0.1524000002,0.1741714288],\"z\":[0,0,0,0,0,0,0,0,0],\"type\":\"scatter3d\"},{\"mode\":\"lines\",\"name\":\"board grid\",\"opacity\":0.3,\"x\":[0.1306285716,0.1306285716,0.1306285716,0.1306285716,0.1306285716,0.1306285716,0.1306285716,0.1306285716,0.1306285716],\"y\":[0.0,0.0217714286,0.0435428572,0.0653142858,0.0870857144,0.108857143,0.1306285716,0.1524000002,0.1741714288],\"z\":[0,0,0,0,0,0,0,0,0],\"type\":\"scatter3d\"},{\"mode\":\"lines\",\"name\":\"board grid\",\"opacity\":0.3,\"x\":[0.1524000002,0.1524000002,0.1524000002,0.1524000002,0.1524000002,0.1524000002,0.1524000002,0.1524000002,0.1524000002],\"y\":[0.0,0.0217714286,0.0435428572,0.0653142858,0.0870857144,0.108857143,0.1306285716,0.1524000002,0.1741714288],\"z\":[0,0,0,0,0,0,0,0,0],\"type\":\"scatter3d\"},{\"mode\":\"lines\",\"name\":\"board grid\",\"opacity\":0.3,\"x\":[0.1741714288,0.1741714288,0.1741714288,0.1741714288,0.1741714288,0.1741714288,0.1741714288,0.1741714288,0.1741714288],\"y\":[0.0,0.0217714286,0.0435428572,0.0653142858,0.0870857144,0.108857143,0.1306285716,0.1524000002,0.1741714288],\"z\":[0,0,0,0,0,0,0,0,0],\"type\":\"scatter3d\"},{\"mode\":\"lines\",\"opacity\":0.3,\"showlegend\":false,\"x\":[0.0,0.0217714286,0.0435428572,0.0653142858,0.0870857144,0.108857143,0.1306285716,0.1524000002,0.1741714288],\"y\":[0.0,0.0,0.0,0.0,0.0,0.0,0.0,0.0,0.0],\"z\":[0,0,0,0,0,0,0,0,0],\"type\":\"scatter3d\"},{\"mode\":\"lines\",\"opacity\":0.3,\"showlegend\":false,\"x\":[0.0,0.0217714286,0.0435428572,0.0653142858,0.0870857144,0.108857143,0.1306285716,0.1524000002,0.1741714288],\"y\":[0.0217714286,0.0217714286,0.0217714286,0.0217714286,0.0217714286,0.0217714286,0.0217714286,0.0217714286,0.0217714286],\"z\":[0,0,0,0,0,0,0,0,0],\"type\":\"scatter3d\"},{\"mode\":\"lines\",\"opacity\":0.3,\"showlegend\":false,\"x\":[0.0,0.0217714286,0.0435428572,0.0653142858,0.0870857144,0.108857143,0.1306285716,0.1524000002,0.1741714288],\"y\":[0.0435428572,0.0435428572,0.0435428572,0.0435428572,0.0435428572,0.0435428572,0.0435428572,0.0435428572,0.0435428572],\"z\":[0,0,0,0,0,0,0,0,0],\"type\":\"scatter3d\"},{\"mode\":\"lines\",\"opacity\":0.3,\"showlegend\":false,\"x\":[0.0,0.0217714286,0.0435428572,0.0653142858,0.0870857144,0.108857143,0.1306285716,0.1524000002,0.1741714288],\"y\":[0.0653142858,0.0653142858,0.0653142858,0.0653142858,0.0653142858,0.0653142858,0.0653142858,0.0653142858,0.0653142858],\"z\":[0,0,0,0,0,0,0,0,0],\"type\":\"scatter3d\"},{\"mode\":\"lines\",\"opacity\":0.3,\"showlegend\":false,\"x\":[0.0,0.0217714286,0.0435428572,0.0653142858,0.0870857144,0.108857143,0.1306285716,0.1524000002,0.1741714288],\"y\":[0.0870857144,0.0870857144,0.0870857144,0.0870857144,0.0870857144,0.0870857144,0.0870857144,0.0870857144,0.0870857144],\"z\":[0,0,0,0,0,0,0,0,0],\"type\":\"scatter3d\"},{\"mode\":\"lines\",\"opacity\":0.3,\"showlegend\":false,\"x\":[0.0,0.0217714286,0.0435428572,0.0653142858,0.0870857144,0.108857143,0.1306285716,0.1524000002,0.1741714288],\"y\":[0.108857143,0.108857143,0.108857143,0.108857143,0.108857143,0.108857143,0.108857143,0.108857143,0.108857143],\"z\":[0,0,0,0,0,0,0,0,0],\"type\":\"scatter3d\"},{\"mode\":\"lines\",\"opacity\":0.3,\"showlegend\":false,\"x\":[0.0,0.0217714286,0.0435428572,0.0653142858,0.0870857144,0.108857143,0.1306285716,0.1524000002,0.1741714288],\"y\":[0.1306285716,0.1306285716,0.1306285716,0.1306285716,0.1306285716,0.1306285716,0.1306285716,0.1306285716,0.1306285716],\"z\":[0,0,0,0,0,0,0,0,0],\"type\":\"scatter3d\"},{\"mode\":\"lines\",\"opacity\":0.3,\"showlegend\":false,\"x\":[0.0,0.0217714286,0.0435428572,0.0653142858,0.0870857144,0.108857143,0.1306285716,0.1524000002,0.1741714288],\"y\":[0.1524000002,0.1524000002,0.1524000002,0.1524000002,0.1524000002,0.1524000002,0.1524000002,0.1524000002,0.1524000002],\"z\":[0,0,0,0,0,0,0,0,0],\"type\":\"scatter3d\"},{\"mode\":\"lines\",\"opacity\":0.3,\"showlegend\":false,\"x\":[0.0,0.0217714286,0.0435428572,0.0653142858,0.0870857144,0.108857143,0.1306285716,0.1524000002,0.1741714288],\"y\":[0.1741714288,0.1741714288,0.1741714288,0.1741714288,0.1741714288,0.1741714288,0.1741714288,0.1741714288,0.1741714288],\"z\":[0,0,0,0,0,0,0,0,0],\"type\":\"scatter3d\"},{\"marker\":{\"size\":4},\"mode\":\"markers+text\",\"name\":\"Camera centers\",\"text\":[\"#0\",\"#1\",\"#2\",\"#3\",\"#4\",\"#5\",\"#6\",\"#7\",\"#8\",\"#9\",\"#10\",\"#11\",\"#12\",\"#13\",\"#14\"],\"textposition\":\"top center\",\"x\":[0.19716158573081943,0.382695268755341,0.4600333533187537,0.5887718606060799,0.6470487060851563,0.4759848143409653,0.2915697684398935,0.07302130995144013,-0.2541328427614248,-0.5982821010485591,-0.6665075886966716,-0.6501714193157866,-0.6246311036700625,-0.5295330072923047,-0.31182602132024506],\"y\":[-0.39532363946000226,-0.31815251774413666,-0.2927363104084191,-0.2630227889229331,-0.29129853687951923,-0.4591290967223991,-0.4741642689179095,-0.44311864762964603,-0.4300983088569301,-0.24413890521252776,-0.015860903460894915,0.19738501794913635,0.06750651200964257,-0.1402361234739455,-0.3230250823329547],\"z\":[-0.5512496907897153,-0.5481519010702417,-0.56695029661179,-0.5863828858411769,-0.8279949737787531,-0.8680907889900173,-0.8796227816429615,-0.8567867087185955,-0.7884693872280562,-0.7268004121080501,-0.7317505325428446,-0.725884148273137,-0.7849353441559294,-0.7425542109000022,-0.6990819907203624],\"type\":\"scatter3d\"},{\"mode\":\"lines\",\"name\":\"X-axis\",\"x\":[0,0.0653142858],\"y\":[0,0],\"z\":[0,0],\"type\":\"scatter3d\"},{\"mode\":\"lines\",\"name\":\"Y-axis\",\"x\":[0,0],\"y\":[0,0.0653142858],\"z\":[0,0],\"type\":\"scatter3d\"},{\"mode\":\"lines\",\"name\":\"Z-axis\",\"x\":[0,0],\"y\":[0,0],\"z\":[0,0.0653142858],\"type\":\"scatter3d\"}],                        {\"template\":{\"data\":{\"histogram2dcontour\":[{\"type\":\"histogram2dcontour\",\"colorbar\":{\"outlinewidth\":0,\"ticks\":\"\"},\"colorscale\":[[0.0,\"#0d0887\"],[0.1111111111111111,\"#46039f\"],[0.2222222222222222,\"#7201a8\"],[0.3333333333333333,\"#9c179e\"],[0.4444444444444444,\"#bd3786\"],[0.5555555555555556,\"#d8576b\"],[0.6666666666666666,\"#ed7953\"],[0.7777777777777778,\"#fb9f3a\"],[0.8888888888888888,\"#fdca26\"],[1.0,\"#f0f921\"]]}],\"choropleth\":[{\"type\":\"choropleth\",\"colorbar\":{\"outlinewidth\":0,\"ticks\":\"\"}}],\"histogram2d\":[{\"type\":\"histogram2d\",\"colorbar\":{\"outlinewidth\":0,\"ticks\":\"\"},\"colorscale\":[[0.0,\"#0d0887\"],[0.1111111111111111,\"#46039f\"],[0.2222222222222222,\"#7201a8\"],[0.3333333333333333,\"#9c179e\"],[0.4444444444444444,\"#bd3786\"],[0.5555555555555556,\"#d8576b\"],[0.6666666666666666,\"#ed7953\"],[0.7777777777777778,\"#fb9f3a\"],[0.8888888888888888,\"#fdca26\"],[1.0,\"#f0f921\"]]}],\"heatmap\":[{\"type\":\"heatmap\",\"colorbar\":{\"outlinewidth\":0,\"ticks\":\"\"},\"colorscale\":[[0.0,\"#0d0887\"],[0.1111111111111111,\"#46039f\"],[0.2222222222222222,\"#7201a8\"],[0.3333333333333333,\"#9c179e\"],[0.4444444444444444,\"#bd3786\"],[0.5555555555555556,\"#d8576b\"],[0.6666666666666666,\"#ed7953\"],[0.7777777777777778,\"#fb9f3a\"],[0.8888888888888888,\"#fdca26\"],[1.0,\"#f0f921\"]]}],\"heatmapgl\":[{\"type\":\"heatmapgl\",\"colorbar\":{\"outlinewidth\":0,\"ticks\":\"\"},\"colorscale\":[[0.0,\"#0d0887\"],[0.1111111111111111,\"#46039f\"],[0.2222222222222222,\"#7201a8\"],[0.3333333333333333,\"#9c179e\"],[0.4444444444444444,\"#bd3786\"],[0.5555555555555556,\"#d8576b\"],[0.6666666666666666,\"#ed7953\"],[0.7777777777777778,\"#fb9f3a\"],[0.8888888888888888,\"#fdca26\"],[1.0,\"#f0f921\"]]}],\"contourcarpet\":[{\"type\":\"contourcarpet\",\"colorbar\":{\"outlinewidth\":0,\"ticks\":\"\"}}],\"contour\":[{\"type\":\"contour\",\"colorbar\":{\"outlinewidth\":0,\"ticks\":\"\"},\"colorscale\":[[0.0,\"#0d0887\"],[0.1111111111111111,\"#46039f\"],[0.2222222222222222,\"#7201a8\"],[0.3333333333333333,\"#9c179e\"],[0.4444444444444444,\"#bd3786\"],[0.5555555555555556,\"#d8576b\"],[0.6666666666666666,\"#ed7953\"],[0.7777777777777778,\"#fb9f3a\"],[0.8888888888888888,\"#fdca26\"],[1.0,\"#f0f921\"]]}],\"surface\":[{\"type\":\"surface\",\"colorbar\":{\"outlinewidth\":0,\"ticks\":\"\"},\"colorscale\":[[0.0,\"#0d0887\"],[0.1111111111111111,\"#46039f\"],[0.2222222222222222,\"#7201a8\"],[0.3333333333333333,\"#9c179e\"],[0.4444444444444444,\"#bd3786\"],[0.5555555555555556,\"#d8576b\"],[0.6666666666666666,\"#ed7953\"],[0.7777777777777778,\"#fb9f3a\"],[0.8888888888888888,\"#fdca26\"],[1.0,\"#f0f921\"]]}],\"mesh3d\":[{\"type\":\"mesh3d\",\"colorbar\":{\"outlinewidth\":0,\"ticks\":\"\"}}],\"scatter\":[{\"fillpattern\":{\"fillmode\":\"overlay\",\"size\":10,\"solidity\":0.2},\"type\":\"scatter\"}],\"parcoords\":[{\"type\":\"parcoords\",\"line\":{\"colorbar\":{\"outlinewidth\":0,\"ticks\":\"\"}}}],\"scatterpolargl\":[{\"type\":\"scatterpolargl\",\"marker\":{\"colorbar\":{\"outlinewidth\":0,\"ticks\":\"\"}}}],\"bar\":[{\"error_x\":{\"color\":\"#2a3f5f\"},\"error_y\":{\"color\":\"#2a3f5f\"},\"marker\":{\"line\":{\"color\":\"#E5ECF6\",\"width\":0.5},\"pattern\":{\"fillmode\":\"overlay\",\"size\":10,\"solidity\":0.2}},\"type\":\"bar\"}],\"scattergeo\":[{\"type\":\"scattergeo\",\"marker\":{\"colorbar\":{\"outlinewidth\":0,\"ticks\":\"\"}}}],\"scatterpolar\":[{\"type\":\"scatterpolar\",\"marker\":{\"colorbar\":{\"outlinewidth\":0,\"ticks\":\"\"}}}],\"histogram\":[{\"marker\":{\"pattern\":{\"fillmode\":\"overlay\",\"size\":10,\"solidity\":0.2}},\"type\":\"histogram\"}],\"scattergl\":[{\"type\":\"scattergl\",\"marker\":{\"colorbar\":{\"outlinewidth\":0,\"ticks\":\"\"}}}],\"scatter3d\":[{\"type\":\"scatter3d\",\"line\":{\"colorbar\":{\"outlinewidth\":0,\"ticks\":\"\"}},\"marker\":{\"colorbar\":{\"outlinewidth\":0,\"ticks\":\"\"}}}],\"scattermapbox\":[{\"type\":\"scattermapbox\",\"marker\":{\"colorbar\":{\"outlinewidth\":0,\"ticks\":\"\"}}}],\"scatterternary\":[{\"type\":\"scatterternary\",\"marker\":{\"colorbar\":{\"outlinewidth\":0,\"ticks\":\"\"}}}],\"scattercarpet\":[{\"type\":\"scattercarpet\",\"marker\":{\"colorbar\":{\"outlinewidth\":0,\"ticks\":\"\"}}}],\"carpet\":[{\"aaxis\":{\"endlinecolor\":\"#2a3f5f\",\"gridcolor\":\"white\",\"linecolor\":\"white\",\"minorgridcolor\":\"white\",\"startlinecolor\":\"#2a3f5f\"},\"baxis\":{\"endlinecolor\":\"#2a3f5f\",\"gridcolor\":\"white\",\"linecolor\":\"white\",\"minorgridcolor\":\"white\",\"startlinecolor\":\"#2a3f5f\"},\"type\":\"carpet\"}],\"table\":[{\"cells\":{\"fill\":{\"color\":\"#EBF0F8\"},\"line\":{\"color\":\"white\"}},\"header\":{\"fill\":{\"color\":\"#C8D4E3\"},\"line\":{\"color\":\"white\"}},\"type\":\"table\"}],\"barpolar\":[{\"marker\":{\"line\":{\"color\":\"#E5ECF6\",\"width\":0.5},\"pattern\":{\"fillmode\":\"overlay\",\"size\":10,\"solidity\":0.2}},\"type\":\"barpolar\"}],\"pie\":[{\"automargin\":true,\"type\":\"pie\"}]},\"layout\":{\"autotypenumbers\":\"strict\",\"colorway\":[\"#636efa\",\"#EF553B\",\"#00cc96\",\"#ab63fa\",\"#FFA15A\",\"#19d3f3\",\"#FF6692\",\"#B6E880\",\"#FF97FF\",\"#FECB52\"],\"font\":{\"color\":\"#2a3f5f\"},\"hovermode\":\"closest\",\"hoverlabel\":{\"align\":\"left\"},\"paper_bgcolor\":\"white\",\"plot_bgcolor\":\"#E5ECF6\",\"polar\":{\"bgcolor\":\"#E5ECF6\",\"angularaxis\":{\"gridcolor\":\"white\",\"linecolor\":\"white\",\"ticks\":\"\"},\"radialaxis\":{\"gridcolor\":\"white\",\"linecolor\":\"white\",\"ticks\":\"\"}},\"ternary\":{\"bgcolor\":\"#E5ECF6\",\"aaxis\":{\"gridcolor\":\"white\",\"linecolor\":\"white\",\"ticks\":\"\"},\"baxis\":{\"gridcolor\":\"white\",\"linecolor\":\"white\",\"ticks\":\"\"},\"caxis\":{\"gridcolor\":\"white\",\"linecolor\":\"white\",\"ticks\":\"\"}},\"coloraxis\":{\"colorbar\":{\"outlinewidth\":0,\"ticks\":\"\"}},\"colorscale\":{\"sequential\":[[0.0,\"#0d0887\"],[0.1111111111111111,\"#46039f\"],[0.2222222222222222,\"#7201a8\"],[0.3333333333333333,\"#9c179e\"],[0.4444444444444444,\"#bd3786\"],[0.5555555555555556,\"#d8576b\"],[0.6666666666666666,\"#ed7953\"],[0.7777777777777778,\"#fb9f3a\"],[0.8888888888888888,\"#fdca26\"],[1.0,\"#f0f921\"]],\"sequentialminus\":[[0.0,\"#0d0887\"],[0.1111111111111111,\"#46039f\"],[0.2222222222222222,\"#7201a8\"],[0.3333333333333333,\"#9c179e\"],[0.4444444444444444,\"#bd3786\"],[0.5555555555555556,\"#d8576b\"],[0.6666666666666666,\"#ed7953\"],[0.7777777777777778,\"#fb9f3a\"],[0.8888888888888888,\"#fdca26\"],[1.0,\"#f0f921\"]],\"diverging\":[[0,\"#8e0152\"],[0.1,\"#c51b7d\"],[0.2,\"#de77ae\"],[0.3,\"#f1b6da\"],[0.4,\"#fde0ef\"],[0.5,\"#f7f7f7\"],[0.6,\"#e6f5d0\"],[0.7,\"#b8e186\"],[0.8,\"#7fbc41\"],[0.9,\"#4d9221\"],[1,\"#276419\"]]},\"xaxis\":{\"gridcolor\":\"white\",\"linecolor\":\"white\",\"ticks\":\"\",\"title\":{\"standoff\":15},\"zerolinecolor\":\"white\",\"automargin\":true,\"zerolinewidth\":2},\"yaxis\":{\"gridcolor\":\"white\",\"linecolor\":\"white\",\"ticks\":\"\",\"title\":{\"standoff\":15},\"zerolinecolor\":\"white\",\"automargin\":true,\"zerolinewidth\":2},\"scene\":{\"xaxis\":{\"backgroundcolor\":\"#E5ECF6\",\"gridcolor\":\"white\",\"linecolor\":\"white\",\"showbackground\":true,\"ticks\":\"\",\"zerolinecolor\":\"white\",\"gridwidth\":2},\"yaxis\":{\"backgroundcolor\":\"#E5ECF6\",\"gridcolor\":\"white\",\"linecolor\":\"white\",\"showbackground\":true,\"ticks\":\"\",\"zerolinecolor\":\"white\",\"gridwidth\":2},\"zaxis\":{\"backgroundcolor\":\"#E5ECF6\",\"gridcolor\":\"white\",\"linecolor\":\"white\",\"showbackground\":true,\"ticks\":\"\",\"zerolinecolor\":\"white\",\"gridwidth\":2}},\"shapedefaults\":{\"line\":{\"color\":\"#2a3f5f\"}},\"annotationdefaults\":{\"arrowcolor\":\"#2a3f5f\",\"arrowhead\":0,\"arrowwidth\":1},\"geo\":{\"bgcolor\":\"white\",\"landcolor\":\"#E5ECF6\",\"subunitcolor\":\"white\",\"showland\":true,\"showlakes\":true,\"lakecolor\":\"white\"},\"title\":{\"x\":0.05},\"mapbox\":{\"style\":\"light\"}}},\"scene\":{\"xaxis\":{\"title\":{\"text\":\"X (m)\"}},\"yaxis\":{\"title\":{\"text\":\"Y (m)\"}},\"zaxis\":{\"title\":{\"text\":\"Z (m)\"}},\"aspectmode\":\"data\"},\"legend\":{\"x\":0,\"y\":1.0},\"title\":{\"text\":\"Estimated Camera Poses w.r.t. Chessboard\"}},                        {\"responsive\": true}                    ).then(function(){\n",
              "                            \n",
              "var gd = document.getElementById('a6e1b49c-75d0-418b-a556-34ff3daa663c');\n",
              "var x = new MutationObserver(function (mutations, observer) {{\n",
              "        var display = window.getComputedStyle(gd).display;\n",
              "        if (!display || display === 'none') {{\n",
              "            console.log([gd, 'removed!']);\n",
              "            Plotly.purge(gd);\n",
              "            observer.disconnect();\n",
              "        }}\n",
              "}});\n",
              "\n",
              "// Listen for the removal of the full notebook cells\n",
              "var notebookContainer = gd.closest('#notebook-container');\n",
              "if (notebookContainer) {{\n",
              "    x.observe(notebookContainer, {childList: true});\n",
              "}}\n",
              "\n",
              "// Listen for the clearing of the current output cell\n",
              "var outputEl = gd.closest('.output');\n",
              "if (outputEl) {{\n",
              "    x.observe(outputEl, {childList: true});\n",
              "}}\n",
              "\n",
              "                        })                };                            </script>        </div>\n",
              "</body>\n",
              "</html>"
            ]
          },
          "metadata": {}
        }
      ]
    },
    {
      "cell_type": "markdown",
      "source": [
        "Build a Gradio Inline UI"
      ],
      "metadata": {
        "id": "SYjU7pbkfvA4"
      }
    },
    {
      "cell_type": "code",
      "source": [
        "STATE = {\n",
        "    \"image_dir\": IMG_DIR,\n",
        "    \"last_calib_json\": os.path.join(BASE_DIR, \"calibration.json\")\n",
        "}\n",
        "\n",
        "def ui_save_uploads(files):\n",
        "    IO.ensure_dir(STATE[\"image_dir\"])\n",
        "    saved = 0\n",
        "    paths = []\n",
        "    if not files:\n",
        "        return \"No files uploaded.\", []\n",
        "    for f in files:\n",
        "        fname = os.path.basename(f.name)\n",
        "        dst = os.path.join(STATE[\"image_dir\"], fname)\n",
        "        with open(f.name, \"rb\") as src, open(dst, \"wb\") as out:\n",
        "            out.write(src.read())\n",
        "        saved += 1\n",
        "        paths.append(dst)\n",
        "    return f\"Saved {saved} image(s) to {STATE['image_dir']}\", IO.list_images(STATE[\"image_dir\"])\n",
        "\n",
        "def ui_run_calibration(pattern_cols, pattern_rows, square_size_m, max_overlay):\n",
        "    \"\"\"\n",
        "    Run calibration and prepare UI outputs (images rendered as HTML).\n",
        "    Returns:\n",
        "      info_markdown, pose_fig (plotly.Figure), overlay_html (str), undist_html (str)\n",
        "    \"\"\"\n",
        "    try:\n",
        "        result = run_full_calibration(\n",
        "            image_dir=STATE[\"image_dir\"],\n",
        "            pattern_cols=int(pattern_cols),\n",
        "            pattern_rows=int(pattern_rows),\n",
        "            square_size_m=float(square_size_m),\n",
        "            max_overlay_images=int(max_overlay),\n",
        "            save_json_path=STATE[\"last_calib_json\"],\n",
        "        )\n",
        "\n",
        "        info = (\n",
        "            f\"✅ Calibration completed\\n\"\n",
        "            f\"• RMS reprojection error: {result['rms']:.4f}\\n\"\n",
        "            f\"• Images in folder: {result['num_images']}\\n\"\n",
        "            f\"• Used with valid corners: {result['num_used']}\\n\"\n",
        "            f\"• Image size: {result['image_size'][0]} x {result['image_size'][1]}\\n\"\n",
        "            f\"• Saved: {result['json_path']}\"\n",
        "        )\n",
        "\n",
        "        # ------- overlays -> HTML -------\n",
        "        overlay_pil = _prep_gallery_pil(result[\"overlay_images\"])  # list[PIL.Image] (may be empty)\n",
        "        # Make short captions for the number of overlays we actually have\n",
        "        overlay_caps = [f\"axes {i+1}\" for i in range(len(overlay_pil))]\n",
        "        overlay_html_str = _imgs_to_html(overlay_pil, captions=overlay_caps, max_w=360)\n",
        "\n",
        "        # ------- undistortion (always show 2 panels) -> HTML -------\n",
        "        undist_html_str = \"<div style='color:#bbb'>No undistortion preview.</div>\"\n",
        "        if result[\"undist_before\"] is not None:\n",
        "            before_np = result[\"undist_before\"]\n",
        "            after_np  = result[\"undist_after\"]\n",
        "\n",
        "            before_pil = _to_pil_rgb(before_np)\n",
        "            after_pil  = _to_pil_rgb(after_np)\n",
        "\n",
        "            # If “after” conversion failed for any reason, fall back to “before”\n",
        "            if after_pil is None:\n",
        "                after_pil = before_pil\n",
        "\n",
        "            # If before_pil somehow None (shouldn’t happen), show placeholder\n",
        "            if before_pil is None:\n",
        "                undist_html_str = \"<div style='color:#f88'>Undistortion preview unavailable.</div>\"\n",
        "            else:\n",
        "                undist_html_str = _imgs_to_html([before_pil, after_pil],\n",
        "                                                captions=[\"Before\", \"After\"], max_w=480)\n",
        "\n",
        "        return info, result[\"pose_fig\"], overlay_html_str, undist_html_str\n",
        "\n",
        "    except Exception as e:\n",
        "        err = f\"❌ {type(e).__name__}: {e}\"\n",
        "        # Keep outputs the same types as on success\n",
        "        return err, go.Figure(), f\"<div style='color:#f88'>{err}</div>\", f\"<div style='color:#f88'>{err}</div>\"\n",
        "\n",
        "\n",
        "\n",
        "with gr.Blocks(title=\"Camera Calibration (OpenCV + Gradio)\") as demo:\n",
        "    gr.Markdown(\"# 📷 Camera Calibration — OpenCV + Gradio\\nUpload chessboard photos, then run calibration. Results saved to `calibration.json`.\")\n",
        "\n",
        "    with gr.Tab(\"1) Upload Images\"):\n",
        "        files = gr.Files(file_types=[\"image\"], file_count=\"multiple\", label=\"Upload .jpeg images\")\n",
        "        status = gr.Markdown()\n",
        "        gallery_list = gr.JSON(label=\"Current images in /content/images (paths)\")\n",
        "        save_btn = gr.Button(\"Save to /content/images\")\n",
        "        save_btn.click(fn=ui_save_uploads, inputs=files, outputs=[status, gallery_list])\n",
        "\n",
        "    with gr.Tab(\"2) Calibrate & Visualize\"):\n",
        "        with gr.Row():\n",
        "            pattern_cols = gr.Number(value=9, precision=0, label=\"Inner corners (cols)\")\n",
        "            pattern_rows = gr.Number(value=6, precision=0, label=\"Inner corners (rows)\")\n",
        "            square_size  = gr.Number(value=0.024, label=\"Square size (meters)\")\n",
        "            max_overlay  = gr.Slider(3, 12, value=8, step=1, label=\"Sample overlays to show\")\n",
        "\n",
        "        run_btn = gr.Button(\"▶️ Run Calibration\")\n",
        "        out_info = gr.Markdown()\n",
        "        pose_fig = gr.Plot(label=\"Camera Poses (3D)\")\n",
        "        overlay_html = gr.HTML(label=\"Detected pattern + world axes\")\n",
        "        undist_html  = gr.HTML(label=\"Undistortion (before/after)\")\n",
        "\n",
        "        run_btn.click(\n",
        "          fn=ui_run_calibration,\n",
        "          inputs=[pattern_cols, pattern_rows, square_size, max_overlay],\n",
        "          outputs=[out_info, pose_fig, overlay_html, undist_html]\n",
        "        )\n",
        "\n",
        "demo.launch(inline=True, share=False)\n"
      ],
      "metadata": {
        "colab": {
          "base_uri": "https://localhost:8080/",
          "height": 599
        },
        "id": "5YOnp2Evfuj3",
        "outputId": "728c56e7-c7c4-45b6-a0c1-d8388df7fe55"
      },
      "execution_count": 103,
      "outputs": [
        {
          "output_type": "stream",
          "name": "stdout",
          "text": [
            "Colab notebook detected. To show errors in colab notebook, set debug=True in launch()\n",
            "Note: opening Chrome Inspector may crash demo inside Colab notebooks.\n",
            "* To create a public link, set `share=True` in `launch()`.\n"
          ]
        },
        {
          "output_type": "display_data",
          "data": {
            "text/plain": [
              "<IPython.core.display.Javascript object>"
            ],
            "application/javascript": [
              "(async (port, path, width, height, cache, element) => {\n",
              "                        if (!google.colab.kernel.accessAllowed && !cache) {\n",
              "                            return;\n",
              "                        }\n",
              "                        element.appendChild(document.createTextNode(''));\n",
              "                        const url = await google.colab.kernel.proxyPort(port, {cache});\n",
              "\n",
              "                        const external_link = document.createElement('div');\n",
              "                        external_link.innerHTML = `\n",
              "                            <div style=\"font-family: monospace; margin-bottom: 0.5rem\">\n",
              "                                Running on <a href=${new URL(path, url).toString()} target=\"_blank\">\n",
              "                                    https://localhost:${port}${path}\n",
              "                                </a>\n",
              "                            </div>\n",
              "                        `;\n",
              "                        element.appendChild(external_link);\n",
              "\n",
              "                        const iframe = document.createElement('iframe');\n",
              "                        iframe.src = new URL(path, url).toString();\n",
              "                        iframe.height = height;\n",
              "                        iframe.allow = \"autoplay; camera; microphone; clipboard-read; clipboard-write;\"\n",
              "                        iframe.width = width;\n",
              "                        iframe.style.border = 0;\n",
              "                        element.appendChild(iframe);\n",
              "                    })(7874, \"/\", \"100%\", 500, false, window.element)"
            ]
          },
          "metadata": {}
        },
        {
          "output_type": "execute_result",
          "data": {
            "text/plain": []
          },
          "metadata": {},
          "execution_count": 103
        }
      ]
    }
  ]
}
