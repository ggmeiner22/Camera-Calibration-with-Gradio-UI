{
  "nbformat": 4,
  "nbformat_minor": 0,
  "metadata": {
    "colab": {
      "provenance": [],
      "authorship_tag": "ABX9TyMn2mJGD8BrhsG7TRO6Yb3J",
      "include_colab_link": true
    },
    "kernelspec": {
      "name": "python3",
      "display_name": "Python 3"
    },
    "language_info": {
      "name": "python"
    }
  },
  "cells": [
    {
      "cell_type": "markdown",
      "metadata": {
        "id": "view-in-github",
        "colab_type": "text"
      },
      "source": [
        "<a href=\"https://colab.research.google.com/github/ggmeiner22/Camera-Calibration-with-Gradio-UI/blob/main/Camera_Calibration_with_Gradio_UI.ipynb\" target=\"_parent\"><img src=\"https://colab.research.google.com/assets/colab-badge.svg\" alt=\"Open In Colab\"/></a>"
      ]
    },
    {
      "cell_type": "markdown",
      "source": [
        "\n",
        "# Camera Calibration (OpenCV + Gradio UI)\n",
        "## In this project, I will calibrate my own camera using OpenCV’s calibration tools.\n",
        "\n",
        "### The goal is to compute my camera’s intrinsic parameters (focal length, principal point, distortion coefficients).\n",
        "\n",
        "### I will also build a small Gradio user interface (UI) to streamline the calibration process, visualize results, and demonstrate understanding of camera geometry.\n",
        "\n"
      ],
      "metadata": {
        "id": "fhcGXGypQCfQ"
      }
    },
    {
      "cell_type": "code",
      "execution_count": 1,
      "metadata": {
        "id": "by8pAQZCN6lh",
        "outputId": "3121d025-88d7-4f1c-adea-7f8b5c3d3876",
        "colab": {
          "base_uri": "https://localhost:8080/"
        }
      },
      "outputs": [
        {
          "output_type": "stream",
          "name": "stdout",
          "text": [
            "\u001b[2K     \u001b[90m━━━━━━━━━━━━━━━━━━━━━━━━━━━━━━━━━━━━━━━━\u001b[0m \u001b[32m8.2/8.2 MB\u001b[0m \u001b[31m36.8 MB/s\u001b[0m eta \u001b[36m0:00:00\u001b[0m\n",
            "\u001b[?25h  Preparing metadata (setup.py) ... \u001b[?25l\u001b[?25hdone\n",
            "  Building wheel for pytransform3d (setup.py) ... \u001b[?25l\u001b[?25hdone\n"
          ]
        }
      ],
      "source": [
        "%pip -q install opencv-python-headless numpy gradio plotly pytransform3d==3.3.0"
      ]
    },
    {
      "cell_type": "markdown",
      "source": [
        "Add imports:"
      ],
      "metadata": {
        "id": "mfkQfde-RIUw"
      }
    },
    {
      "cell_type": "code",
      "source": [
        "import os, json, glob, io, base64, math, textwrap, random\n",
        "from dataclasses import dataclass\n",
        "from typing import List, Tuple, Dict, Any\n",
        "\n",
        "import numpy as np\n",
        "import cv2 as cv\n",
        "import gradio as gr\n",
        "import plotly.graph_objects as go\n",
        "from pytransform3d.transformations import plot_transform"
      ],
      "metadata": {
        "id": "JKH3KHvRRB9E"
      },
      "execution_count": 2,
      "outputs": []
    },
    {
      "cell_type": "markdown",
      "source": [
        "1) Collect Calibration Images"
      ],
      "metadata": {
        "id": "dcv89lFaXtf2"
      }
    },
    {
      "cell_type": "markdown",
      "source": [
        "Save the image into /content/pattern.png"
      ],
      "metadata": {
        "id": "UE-kFogYUIFo"
      }
    },
    {
      "cell_type": "code",
      "source": [
        "# Download the OpenCV checkerboard pattern\n",
        "import urllib.request\n",
        "\n",
        "url = \"https://docs.opencv.org/4.x/pattern.png\"\n",
        "save_path = \"/content/pattern.png\"\n",
        "\n",
        "urllib.request.urlretrieve(url, save_path)\n",
        "print(f\"Saved checkerboard to {save_path}\")"
      ],
      "metadata": {
        "id": "puWQINZ-TqU_",
        "outputId": "805d772c-7b79-47c1-dfd3-5a0a2c215a88",
        "colab": {
          "base_uri": "https://localhost:8080/"
        }
      },
      "execution_count": 4,
      "outputs": [
        {
          "output_type": "stream",
          "name": "stdout",
          "text": [
            "Saved checkerboard to /content/pattern.png\n"
          ]
        }
      ]
    },
    {
      "cell_type": "markdown",
      "source": [
        "Print the OpenCV chessboard calibration pattern: pattern.png."
      ],
      "metadata": {
        "id": "J7ijfKiJUYgI"
      }
    },
    {
      "cell_type": "code",
      "source": [
        "from IPython.display import Image, display\n",
        "display(Image(filename=save_path))"
      ],
      "metadata": {
        "id": "7PKC3SICUYGn",
        "outputId": "4e7ba7c0-e538-4c59-f75b-55e556325f5c",
        "colab": {
          "base_uri": "https://localhost:8080/",
          "height": 804
        }
      },
      "execution_count": 5,
      "outputs": [
        {
          "output_type": "display_data",
          "data": {
            "image/png": "[encoded data removed]",
            "text/plain": [
              "<IPython.core.display.Image object>"
            ]
          },
          "metadata": {}
        }
      ]
    },
    {
      "cell_type": "markdown",
      "source": [
        "I/O class"
      ],
      "metadata": {
        "id": "0qcT6DlQV3Mb"
      }
    },
    {
      "cell_type": "code",
      "source": [
        "class IO:\n",
        "    @staticmethod\n",
        "    def ensure_dir(path: str):\n",
        "        os.makedirs(path, exist_ok=True)\n",
        "\n",
        "    @staticmethod\n",
        "    def list_images(folder: str, exts=(\".jpg\",\".jpeg\",\".png\",\".bmp\")) -> List[str]:\n",
        "        files = []\n",
        "        for e in exts:\n",
        "            files.extend(glob.glob(os.path.join(folder, f\"*{e}\")))\n",
        "        return sorted(files)\n",
        "\n",
        "    @staticmethod\n",
        "    def save_json(obj: Dict[str, Any], path: str):\n",
        "        with open(path, \"w\") as f:\n",
        "            json.dump(obj, f, indent=2)\n",
        "\n",
        "    @staticmethod\n",
        "    def load_json(path: str) -> Dict[str, Any]:\n",
        "        with open(path, \"r\") as f:\n",
        "            return json.load(f)\n",
        "\n",
        "    @staticmethod\n",
        "    def imread_rgb(path: str) -> np.ndarray:\n",
        "        bgr = cv.imread(path, cv.IMREAD_COLOR)\n",
        "        if bgr is None:\n",
        "            raise FileNotFoundError(path)\n",
        "        return cv.cvtColor(bgr, cv.COLOR_BGR2RGB)\n",
        "\n",
        "    @staticmethod\n",
        "    def imwrite_rgb(path: str, rgb: np.ndarray):\n",
        "        bgr = cv.cvtColor(rgb, cv.COLOR_RGB2BGR)\n",
        "        cv.imwrite(path, bgr)"
      ],
      "metadata": {
        "id": "C8C4eXShV7fP"
      },
      "execution_count": 6,
      "outputs": []
    },
    {
      "cell_type": "markdown",
      "source": [],
      "metadata": {
        "id": "Tw6j4St4bs_y"
      }
    },
    {
      "cell_type": "code",
      "source": [
        "class Board:\n",
        "    \"\"\"Chessboard model (pattern_size uses inner corners).\"\"\"\n",
        "    @staticmethod\n",
        "    def object_points(pattern_size: Tuple[int,int], square_size_m: float) -> np.ndarray:\n",
        "        cols, rows = pattern_size\n",
        "        objp = np.zeros((rows*cols, 3), np.float32)\n",
        "        xs, ys = np.meshgrid(np.arange(cols), np.arange(rows))\n",
        "        objp[:, :2] = np.vstack([xs.ravel(), ys.ravel()]).T * square_size_m\n",
        "        return objp\n",
        "\n",
        "    @staticmethod\n",
        "    def pattern_tuple(cols: int, rows: int) -> Tuple[int,int]:\n",
        "        return (cols, rows)"
      ],
      "metadata": {
        "id": "oRIVMmeHbvOW"
      },
      "execution_count": 7,
      "outputs": []
    },
    {
      "cell_type": "markdown",
      "source": [],
      "metadata": {
        "id": "g8uH32_5bv2P"
      }
    },
    {
      "cell_type": "code",
      "source": [
        "class Img:\n",
        "    @staticmethod\n",
        "    def draw_axes(rgb: np.ndarray, K: np.ndarray, D: np.ndarray, rvec: np.ndarray, tvec: np.ndarray, axis_len: float) -> np.ndarray:\n",
        "        img = rgb.copy()\n",
        "        axis_3d = np.float32([\n",
        "            [0, 0, 0],\n",
        "            [axis_len, 0, 0],\n",
        "            [0, axis_len, 0],\n",
        "            [0, 0, -axis_len]\n",
        "        ])\n",
        "        axis_2d, _ = cv.projectPoints(axis_3d, rvec, tvec, K, D)\n",
        "        axis_2d = axis_2d.reshape(-1, 2).astype(int)\n",
        "        o, x, y, z = map(tuple, axis_2d)\n",
        "        cv.line(img, o, x, (255,0,0),   3)  # X red\n",
        "        cv.line(img, o, y, (0,255,0),   3)  # Y green\n",
        "        cv.line(img, o, z, (0,0,255),   3)  # Z blue\n",
        "        return img\n",
        "\n",
        "    @staticmethod\n",
        "    def put_text(img: np.ndarray, text: str, org=(10,30)):\n",
        "        out = img.copy()\n",
        "        cv.putText(out, text, org, cv.FONT_HERSHEY_SIMPLEX, 1.0, (255,255,0), 2, cv.LINE_AA)\n",
        "        return out"
      ],
      "metadata": {
        "id": "F1BffUSybweH"
      },
      "execution_count": 8,
      "outputs": []
    },
    {
      "cell_type": "markdown",
      "source": [],
      "metadata": {
        "id": "0ubDMn2Xb1VA"
      }
    },
    {
      "cell_type": "code",
      "source": [
        "class Cam:\n",
        "    @staticmethod\n",
        "    def rodrigues_to_R(rvec: np.ndarray) -> np.ndarray:\n",
        "        R, _ = cv.Rodrigues(rvec)\n",
        "        return R\n",
        "\n",
        "    @staticmethod\n",
        "    def camera_center_in_board(rvec: np.ndarray, tvec: np.ndarray) -> np.ndarray:\n",
        "        # X_c = R X_w + t  ->  C_w = -R^T t\n",
        "        R = Cam.rodrigues_to_R(rvec)\n",
        "        C = -R.T @ tvec.reshape(3,1)\n",
        "        return C.flatten()\n",
        "\n",
        "    @staticmethod\n",
        "    def to_jsonable(mat: np.ndarray) -> List[List[float]]:\n",
        "        return mat.tolist()"
      ],
      "metadata": {
        "id": "Ybb6Ru9Nb1qL"
      },
      "execution_count": 9,
      "outputs": []
    },
    {
      "cell_type": "markdown",
      "source": [],
      "metadata": {
        "id": "e22R7Expb4yy"
      }
    },
    {
      "cell_type": "code",
      "source": [
        "class Calib:\n",
        "    @staticmethod\n",
        "    def detect_corners(image_paths: List[str], pattern_size: Tuple[int,int]):\n",
        "        objp_unit = Board.object_points(pattern_size, square_size_m=1.0)  # scale later\n",
        "        objpoints, imgpoints = [], []\n",
        "        img_size = None\n",
        "\n",
        "        for p in image_paths:\n",
        "            bgr = cv.imread(p, cv.IMREAD_COLOR)\n",
        "            if bgr is None:\n",
        "                print(f\"[WARN] Could not read image: {p}\")\n",
        "                continue\n",
        "            gray = cv.cvtColor(bgr, cv.COLOR_BGR2GRAY)\n",
        "            if img_size is None:\n",
        "                img_size = (gray.shape[1], gray.shape[0])\n",
        "            ret, corners = cv.findChessboardCorners(gray, pattern_size,\n",
        "                                                    flags=cv.CALIB_CB_ADAPTIVE_THRESH + cv.CALIB_CB_NORMALIZE_IMAGE)\n",
        "            if ret:\n",
        "                corners_ref = cv.cornerSubPix(\n",
        "                    gray, corners, (11,11), (-1,-1),\n",
        "                    (cv.TERM_CRITERIA_EPS + cv.TERM_CRITERIA_MAX_ITER, 30, 0.001)\n",
        "                )\n",
        "                objpoints.append(objp_unit.copy())\n",
        "                imgpoints.append(corners_ref)\n",
        "            else:\n",
        "                print(f\"[INFO] Chessboard not found: {os.path.basename(p)}\")\n",
        "\n",
        "        return objpoints, imgpoints, img_size\n",
        "\n",
        "    @staticmethod\n",
        "    def calibrate(objpoints_unit, imgpoints, img_size, square_size_m: float):\n",
        "        if img_size is None or len(objpoints_unit) == 0:\n",
        "            raise ValueError(\"No valid detections or unknown image size.\")\n",
        "        scaled_objpoints = [op * square_size_m for op in objpoints_unit]\n",
        "\n",
        "        ret, K, D, rvecs, tvecs = cv.calibrateCamera(\n",
        "            scaled_objpoints, imgpoints, img_size, None, None, flags=cv.CALIB_RATIONAL_MODEL\n",
        "        )\n",
        "        return {\n",
        "            \"rms_reprojection_error\": float(ret),\n",
        "            \"K\": K, \"D\": D, \"rvecs\": rvecs, \"tvecs\": tvecs, \"image_size\": img_size\n",
        "        }\n",
        "\n",
        "    @staticmethod\n",
        "    def undistort_preview(rgb: np.ndarray, K: np.ndarray, D: np.ndarray):\n",
        "        h, w = rgb.shape[:2]\n",
        "        newK, _ = cv.getOptimalNewCameraMatrix(K, D, (w, h), 1.0, (w, h))\n",
        "        und = cv.undistort(cv.cvtColor(rgb, cv.COLOR_RGB2BGR), K, D, None, newK)\n",
        "        return rgb, cv.cvtColor(und, cv.COLOR_BGR2RGB)\n",
        "\n",
        "    @staticmethod\n",
        "    def save_calibration_json(path: str, calib: Dict[str, Any]):\n",
        "        out = {\n",
        "            \"rms_reprojection_error\": calib[\"rms_reprojection_error\"],\n",
        "            \"K\": Cam.to_jsonable(calib[\"K\"]),\n",
        "            \"D\": Cam.to_jsonable(calib[\"D\"]),\n",
        "            \"rvecs\": [rv.flatten().tolist() for rv in calib[\"rvecs\"]],\n",
        "            \"tvecs\": [tv.flatten().tolist() for tv in calib[\"tvecs\"]],\n",
        "            \"image_width\": int(calib[\"image_size\"][0]),\n",
        "            \"image_height\": int(calib[\"image_size\"][1]),\n",
        "        }\n",
        "        IO.save_json(out, path)\n",
        "\n",
        "    @staticmethod\n",
        "    def estimate_poses(image_paths, pattern_size, square_size_m, K, D, imgpoints):\n",
        "        objp = Board.object_points(pattern_size, square_size_m)\n",
        "        results = []\n",
        "        for pth, corners in zip(image_paths, imgpoints):\n",
        "            ok, rvec, tvec = cv.solvePnP(objp, corners, K, D, flags=cv.SOLVEPNP_ITERATIVE)\n",
        "            if ok:\n",
        "                results.append((pth, rvec, tvec))\n",
        "        return results"
      ],
      "metadata": {
        "id": "81EZ0ngjb4Nw"
      },
      "execution_count": 10,
      "outputs": []
    },
    {
      "cell_type": "markdown",
      "source": [],
      "metadata": {
        "id": "knrpczsvcAqG"
      }
    },
    {
      "cell_type": "code",
      "source": [],
      "metadata": {
        "id": "eP5K9g5McA5a"
      },
      "execution_count": null,
      "outputs": []
    }
  ]
}